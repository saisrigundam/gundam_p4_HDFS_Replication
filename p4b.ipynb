{
 "cells": [
  {
   "cell_type": "code",
   "execution_count": 1,
   "id": "b472ba12-99e5-44e4-83c9-30ec910b2714",
   "metadata": {},
   "outputs": [],
   "source": [
    "import requests\n",
    "import pyarrow as pa\n",
    "import pyarrow.fs\n",
    "import io"
   ]
  },
  {
   "cell_type": "code",
   "execution_count": 7,
   "id": "cecabc66-0cbf-4247-9dc9-363b32df3562",
   "metadata": {},
   "outputs": [
    {
     "name": "stdout",
     "output_type": "stream",
     "text": [
      "Configured Capacity: 25821052928 (24.05 GB)\n",
      "Present Capacity: 7518210929 (7.00 GB)\n",
      "DFS Remaining: 7251161088 (6.75 GB)\n",
      "DFS Used: 267049841 (254.68 MB)\n",
      "DFS Used%: 3.55%\n",
      "Replicated Blocks:\n",
      "\tUnder replicated blocks: 167\n",
      "\tBlocks with corrupt replicas: 0\n",
      "\tMissing blocks: 81\n",
      "\tMissing blocks (with replication factor 1): 81\n",
      "\tLow redundancy blocks with highest priority to recover: 167\n",
      "\tPending deletion blocks: 0\n",
      "Erasure Coded Block Groups: \n",
      "\tLow redundancy block groups: 0\n",
      "\tBlock groups with corrupt internal blocks: 0\n",
      "\tMissing block groups: 0\n",
      "\tLow redundancy blocks with highest priority to recover: 0\n",
      "\tPending deletion blocks: 0\n",
      "\n",
      "-------------------------------------------------\n",
      "Live datanodes (1):\n",
      "\n",
      "Name: 172.22.0.5:9866 (project-4-team_bds_p4-dn-2.project-4-team_bds_p4_default)\n",
      "Hostname: 6ac7f31c9295\n",
      "Decommission Status : Normal\n",
      "Configured Capacity: 25821052928 (24.05 GB)\n",
      "DFS Used: 267049841 (254.68 MB)\n",
      "Non DFS Used: 18286064783 (17.03 GB)\n",
      "DFS Remaining: 7251161088 (6.75 GB)\n",
      "DFS Used%: 1.03%\n",
      "DFS Remaining%: 28.08%\n",
      "Configured Cache Capacity: 0 (0 B)\n",
      "Cache Used: 0 (0 B)\n",
      "Cache Remaining: 0 (0 B)\n",
      "Cache Used%: 100.00%\n",
      "Cache Remaining%: 0.00%\n",
      "Xceivers: 0\n",
      "Last contact: Sat Oct 28 00:24:06 GMT 2023\n",
      "Last Block Report: Sat Oct 28 00:18:06 GMT 2023\n",
      "Num of Blocks: 253\n",
      "\n",
      "\n",
      "Dead datanodes (1):\n",
      "\n",
      "Name: 172.22.0.3:9866 (172.22.0.3)\n",
      "Hostname: 952ff983a1b1\n",
      "Decommission Status : Normal\n",
      "Configured Capacity: 25821052928 (24.05 GB)\n",
      "DFS Used: 261935371 (249.80 MB)\n",
      "Non DFS Used: 18291146485 (17.03 GB)\n",
      "DFS Remaining: 7251193856 (6.75 GB)\n",
      "DFS Used%: 1.01%\n",
      "DFS Remaining%: 28.08%\n",
      "Configured Cache Capacity: 0 (0 B)\n",
      "Cache Used: 0 (0 B)\n",
      "Cache Remaining: 0 (0 B)\n",
      "Cache Used%: 100.00%\n",
      "Cache Remaining%: 0.00%\n",
      "Xceivers: 0\n",
      "Last contact: Sat Oct 28 00:22:33 GMT 2023\n",
      "Last Block Report: Sat Oct 28 00:18:06 GMT 2023\n",
      "Num of Blocks: 0\n",
      "\n",
      "\n"
     ]
    }
   ],
   "source": [
    "#q8\n",
    "!hdfs dfsadmin -fs hdfs://boss:9000/ -report"
   ]
  },
  {
   "cell_type": "code",
   "execution_count": 3,
   "id": "499216d0-7298-4723-a5a2-35b84384b180",
   "metadata": {},
   "outputs": [],
   "source": [
    "import time\n",
    "time.sleep(30)"
   ]
  },
  {
   "cell_type": "code",
   "execution_count": 8,
   "id": "387f4621-6b24-49b7-846b-e2a114850af5",
   "metadata": {},
   "outputs": [
    {
     "data": {
      "text/plain": [
       "{'lost': 81, '6ac7f31c9295': 86}"
      ]
     },
     "execution_count": 8,
     "metadata": {},
     "output_type": "execute_result"
    }
   ],
   "source": [
    "#q9\n",
    "r_total = requests.get(f\"http://boss:9870/webhdfs/v1/single.csv?op=GETFILESTATUS\")\n",
    "total_size = r_total.json()['FileStatus']['length']\n",
    "block_size = r_total.json()['FileStatus']['blockSize']\n",
    "blocks_count = {'lost': 0}\n",
    "i = 0\n",
    "while(i*block_size < total_size):\n",
    "    url = \"http://boss:9870/webhdfs/v1/single.csv?op=OPEN&offset={}&noredirect=true\".format(block_size*i)\n",
    "    r0 = requests.get(url)\n",
    "    info = r0.json()\n",
    "    if r0.status_code == 403:\n",
    "        blocks_count['lost'] += 1\n",
    "    else:\n",
    "        host = info['Location'].split(\"/\")[2][:-5]\n",
    "        if host in blocks_count:\n",
    "            blocks_count[host] += 1\n",
    "        else:\n",
    "            blocks_count[host] = 1\n",
    "    i+=1\n",
    "blocks_count"
   ]
  },
  {
   "cell_type": "code",
   "execution_count": 9,
   "id": "09a7b9da-74d3-4183-a81f-71d3598aad4f",
   "metadata": {},
   "outputs": [
    {
     "name": "stderr",
     "output_type": "stream",
     "text": [
      "2023-10-28 00:24:25,477 WARN util.NativeCodeLoader: Unable to load native-hadoop library for your platform... using builtin-java classes where applicable\n"
     ]
    },
    {
     "data": {
      "text/plain": [
       "228596"
      ]
     },
     "execution_count": 9,
     "metadata": {},
     "output_type": "execute_result"
    }
   ],
   "source": [
    "#q10\n",
    "# r_total = requests.get(f\"http://boss:9870/webhdfs/v1/single.csv?op=GETFILESTATUS\")\n",
    "# total_size = r_total.json()['FileStatus']['length']\n",
    "# block_size = r_total.json()['FileStatus']['blockSize']\n",
    "\n",
    "hdfs = pa.fs.HadoopFileSystem(\"boss\", 9000)\n",
    "blocks_count = {'lost': 0}\n",
    "i = 0\n",
    "total_occrs = 0\n",
    "with hdfs.open_input_file(\"/single.csv\") as f:\n",
    "    while(i*block_size < total_size):\n",
    "        url = \"http://boss:9870/webhdfs/v1/single.csv?op=OPEN&offset={}&noredirect=true\".format(block_size*i)\n",
    "        r0 = requests.get(url)\n",
    "        info = r0.json()\n",
    "        if r0.status_code == 403:\n",
    "            blocks_count['lost'] += 1\n",
    "        else:\n",
    "            host = info['Location'].split(\"/\")[2][:-5]\n",
    "            if host in blocks_count:\n",
    "                blocks_count[host] += 1\n",
    "            else:\n",
    "                blocks_count[host] = 1\n",
    "            block = f.read_at(1048576,1048576*i)\n",
    "            #reader = io.TextIOWrapper(io.BufferedReader(block))\n",
    "            reader = block.decode()\n",
    "            total_occrs += reader.count(\"Single Family\")\n",
    "        i+=1\n",
    "total_occrs"
   ]
  },
  {
   "cell_type": "code",
   "execution_count": null,
   "id": "d68094d3-d824-4769-bc7b-6fcbe079fef5",
   "metadata": {},
   "outputs": [],
   "source": []
  }
 ],
 "metadata": {
  "kernelspec": {
   "display_name": "Python 3 (ipykernel)",
   "language": "python",
   "name": "python3"
  },
  "language_info": {
   "codemirror_mode": {
    "name": "ipython",
    "version": 3
   },
   "file_extension": ".py",
   "mimetype": "text/x-python",
   "name": "python",
   "nbconvert_exporter": "python",
   "pygments_lexer": "ipython3",
   "version": "3.10.12"
  }
 },
 "nbformat": 4,
 "nbformat_minor": 5
}
