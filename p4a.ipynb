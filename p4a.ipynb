{
 "cells": [
  {
   "cell_type": "code",
   "execution_count": 1,
   "id": "6ca8a2ad-061f-4ea6-95cd-15570e7d40e1",
   "metadata": {},
   "outputs": [],
   "source": [
    "import requests\n",
    "import pyarrow as pa\n",
    "import pyarrow.fs\n",
    "import io\n",
    "import os"
   ]
  },
  {
   "cell_type": "code",
   "execution_count": 2,
   "id": "05e35cd9-36c1-4c8d-95dd-2da73036d610",
   "metadata": {},
   "outputs": [
    {
     "name": "stdout",
     "output_type": "stream",
     "text": [
      "Configured Capacity: 51642105856 (48.10 GB)\n",
      "Present Capacity: 15915597824 (14.82 GB)\n",
      "DFS Remaining: 15915548672 (14.82 GB)\n",
      "DFS Used: 49152 (48 KB)\n",
      "DFS Used%: 0.00%\n",
      "Replicated Blocks:\n",
      "\tUnder replicated blocks: 0\n",
      "\tBlocks with corrupt replicas: 0\n",
      "\tMissing blocks: 0\n",
      "\tMissing blocks (with replication factor 1): 0\n",
      "\tLow redundancy blocks with highest priority to recover: 0\n",
      "\tPending deletion blocks: 0\n",
      "Erasure Coded Block Groups: \n",
      "\tLow redundancy block groups: 0\n",
      "\tBlock groups with corrupt internal blocks: 0\n",
      "\tMissing block groups: 0\n",
      "\tLow redundancy blocks with highest priority to recover: 0\n",
      "\tPending deletion blocks: 0\n",
      "\n",
      "-------------------------------------------------\n",
      "Live datanodes (2):\n",
      "\n",
      "Name: 172.22.0.3:9866 (project-4-team_bds_p4-dn-1.project-4-team_bds_p4_default)\n",
      "Hostname: 952ff983a1b1\n",
      "Decommission Status : Normal\n",
      "Configured Capacity: 25821052928 (24.05 GB)\n",
      "DFS Used: 24576 (24 KB)\n",
      "Non DFS Used: 17846476800 (16.62 GB)\n",
      "DFS Remaining: 7957774336 (7.41 GB)\n",
      "DFS Used%: 0.00%\n",
      "DFS Remaining%: 30.82%\n",
      "Configured Cache Capacity: 0 (0 B)\n",
      "Cache Used: 0 (0 B)\n",
      "Cache Remaining: 0 (0 B)\n",
      "Cache Used%: 100.00%\n",
      "Cache Remaining%: 0.00%\n",
      "Xceivers: 0\n",
      "Last contact: Sat Oct 28 00:19:06 GMT 2023\n",
      "Last Block Report: Sat Oct 28 00:18:06 GMT 2023\n",
      "Num of Blocks: 0\n",
      "\n",
      "\n",
      "Name: 172.22.0.5:9866 (project-4-team_bds_p4-dn-2.project-4-team_bds_p4_default)\n",
      "Hostname: 6ac7f31c9295\n",
      "Decommission Status : Normal\n",
      "Configured Capacity: 25821052928 (24.05 GB)\n",
      "DFS Used: 24576 (24 KB)\n",
      "Non DFS Used: 17846476800 (16.62 GB)\n",
      "DFS Remaining: 7957774336 (7.41 GB)\n",
      "DFS Used%: 0.00%\n",
      "DFS Remaining%: 30.82%\n",
      "Configured Cache Capacity: 0 (0 B)\n",
      "Cache Used: 0 (0 B)\n",
      "Cache Remaining: 0 (0 B)\n",
      "Cache Used%: 100.00%\n",
      "Cache Remaining%: 0.00%\n",
      "Xceivers: 0\n",
      "Last contact: Sat Oct 28 00:19:06 GMT 2023\n",
      "Last Block Report: Sat Oct 28 00:18:06 GMT 2023\n",
      "Num of Blocks: 0\n",
      "\n",
      "\n"
     ]
    }
   ],
   "source": [
    "#q1\n",
    "!hdfs dfsadmin -fs hdfs://boss:9000/ -report"
   ]
  },
  {
   "cell_type": "code",
   "execution_count": 3,
   "id": "e9cf589e-9ca4-40f7-b487-4b5491385cbe",
   "metadata": {},
   "outputs": [
    {
     "name": "stdout",
     "output_type": "stream",
     "text": [
      "--2023-10-28 00:19:18--  https://pages.cs.wisc.edu/~harter/cs544/data/hdma-wi-2021.csv\n",
      "Resolving pages.cs.wisc.edu (pages.cs.wisc.edu)... 128.105.7.9\n",
      "Connecting to pages.cs.wisc.edu (pages.cs.wisc.edu)|128.105.7.9|:443... connected.\n",
      "HTTP request sent, awaiting response... "
     ]
    },
    {
     "name": "stderr",
     "output_type": "stream",
     "text": [
      "rm: cannot remove '*.csv*': No such file or directory\n"
     ]
    },
    {
     "name": "stdout",
     "output_type": "stream",
     "text": [
      "200 OK\n",
      "Length: 174944099 (167M) [text/csv]\n",
      "Saving to: ‘hdma-wi-2021.csv’\n",
      "\n",
      "hdma-wi-2021.csv    100%[===================>] 166.84M  77.8MB/s    in 2.1s    \n",
      "\n",
      "2023-10-28 00:19:20 (77.8 MB/s) - ‘hdma-wi-2021.csv’ saved [174944099/174944099]\n",
      "\n"
     ]
    }
   ],
   "source": [
    "os.system(\"rm *.csv*\")\n",
    "!wget https://pages.cs.wisc.edu/~harter/cs544/data/hdma-wi-2021.csv"
   ]
  },
  {
   "cell_type": "code",
   "execution_count": 4,
   "id": "73498e2f-0013-4bad-b21f-43e77cfa505d",
   "metadata": {},
   "outputs": [],
   "source": [
    "!hdfs dfs -rm -f hdfs://boss:9000/single.csv\n",
    "!hdfs dfs -rm -f hdfs://boss:9000/double.csv"
   ]
  },
  {
   "cell_type": "code",
   "execution_count": 6,
   "id": "0fe07171-e926-4d41-9657-fe1f4ef4da33",
   "metadata": {},
   "outputs": [
    {
     "name": "stdout",
     "output_type": "stream",
     "text": [
      "cp: `hdfs://boss:9000/single.csv': File exists\n",
      "cp: `hdfs://boss:9000/double.csv': File exists\n"
     ]
    }
   ],
   "source": [
    "!hdfs dfs -D dfs.block.size=1048576 -D dfs.replication=1 -cp hdma-wi-2021.csv hdfs://boss:9000/single.csv\n",
    "!hdfs dfs -D dfs.block.size=1048576 -D dfs.replication=2 -cp hdma-wi-2021.csv hdfs://boss:9000/double.csv"
   ]
  },
  {
   "cell_type": "code",
   "execution_count": 7,
   "id": "24bdff47-f489-44be-b262-fc55b2492c8c",
   "metadata": {},
   "outputs": [
    {
     "name": "stdout",
     "output_type": "stream",
     "text": [
      "166.8 M  166.8 M  hdfs://boss:9000/single.csv\n",
      "166.8 M  333.7 M  hdfs://boss:9000/double.csv\n"
     ]
    }
   ],
   "source": [
    "#q2\n",
    "!hdfs dfs -du -s -h hdfs://boss:9000/single.csv\n",
    "!hdfs dfs -du -s -h hdfs://boss:9000/double.csv"
   ]
  },
  {
   "cell_type": "code",
   "execution_count": 8,
   "id": "e49c066c-4cdf-4851-8c80-c14ca9403d56",
   "metadata": {},
   "outputs": [
    {
     "data": {
      "text/plain": [
       "{'FileStatus': {'accessTime': 1698452388515,\n",
       "  'blockSize': 1048576,\n",
       "  'childrenNum': 0,\n",
       "  'fileId': 16386,\n",
       "  'group': 'supergroup',\n",
       "  'length': 174944099,\n",
       "  'modificationTime': 1698452394578,\n",
       "  'owner': 'root',\n",
       "  'pathSuffix': '',\n",
       "  'permission': '644',\n",
       "  'replication': 1,\n",
       "  'storagePolicy': 0,\n",
       "  'type': 'FILE'}}"
      ]
     },
     "execution_count": 8,
     "metadata": {},
     "output_type": "execute_result"
    }
   ],
   "source": [
    "#q3\n",
    "url_s = f\"http://boss:9870/webhdfs/v1/single.csv?op=GETFILESTATUS\"\n",
    "r_single = requests.get(url_s)\n",
    "r_single.json()"
   ]
  },
  {
   "cell_type": "code",
   "execution_count": 9,
   "id": "567d0415-ff53-49ef-8861-df2b98a9d92d",
   "metadata": {},
   "outputs": [
    {
     "data": {
      "text/plain": [
       "'http://952ff983a1b1:9864/webhdfs/v1/single.csv?op=OPEN&namenoderpcaddress=boss:9000&offset=0'"
      ]
     },
     "execution_count": 9,
     "metadata": {},
     "output_type": "execute_result"
    }
   ],
   "source": [
    "#q4\n",
    "r = requests.get(f\"http://boss:9870/webhdfs/v1/single.csv?op=OPEN&offset=0&noredirect=true\")\n",
    "r.json()['Location']"
   ]
  },
  {
   "cell_type": "code",
   "execution_count": 10,
   "id": "9a0d725d-3b1a-4ee5-9b51-4142f1d2856d",
   "metadata": {},
   "outputs": [
    {
     "data": {
      "text/plain": [
       "{'952ff983a1b1': 81, '6ac7f31c9295': 86}"
      ]
     },
     "execution_count": 10,
     "metadata": {},
     "output_type": "execute_result"
    }
   ],
   "source": [
    "#q5\n",
    "r_total = requests.get(f\"http://boss:9870/webhdfs/v1/single.csv?op=GETFILESTATUS\")\n",
    "total_size = r_total.json()['FileStatus']['length']\n",
    "block_size = r_total.json()['FileStatus']['blockSize']\n",
    "blocks_count = {}\n",
    "i = 0\n",
    "while(i*block_size < total_size):\n",
    "    url = \"http://boss:9870/webhdfs/v1/single.csv?op=OPEN&offset={}&noredirect=true\".format(block_size*i)\n",
    "    r0 = requests.get(url)\n",
    "    info = r0.json()\n",
    "    host = info['Location'].split(\"/\")[2][:-5]\n",
    "    if host in blocks_count:\n",
    "        blocks_count[host] += 1\n",
    "    else:\n",
    "        blocks_count[host] = 1\n",
    "    i+=1\n",
    "blocks_count"
   ]
  },
  {
   "cell_type": "code",
   "execution_count": 11,
   "id": "d86b5071-d21b-45d5-8cb9-db04bc1ffb52",
   "metadata": {},
   "outputs": [
    {
     "name": "stderr",
     "output_type": "stream",
     "text": [
      "2023-10-28 00:21:08,065 WARN util.NativeCodeLoader: Unable to load native-hadoop library for your platform... using builtin-java classes where applicable\n"
     ]
    },
    {
     "data": {
      "text/plain": [
       "b'activity_y'"
      ]
     },
     "execution_count": 11,
     "metadata": {},
     "output_type": "execute_result"
    }
   ],
   "source": [
    "#q6\n",
    "hdfs = pa.fs.HadoopFileSystem(\"boss\", 9000)\n",
    "f = hdfs.open_input_file(\"/single.csv\")\n",
    "f.read_at(10, 0)"
   ]
  },
  {
   "cell_type": "code",
   "execution_count": 12,
   "id": "307eb649-1e53-4a78-8727-75c8ac3d61a6",
   "metadata": {},
   "outputs": [
    {
     "data": {
      "text/plain": [
       "444874"
      ]
     },
     "execution_count": 12,
     "metadata": {},
     "output_type": "execute_result"
    }
   ],
   "source": [
    "#q7\n",
    "with hdfs.open_input_file(\"/single.csv\") as f:\n",
    "    reader = io.TextIOWrapper(io.BufferedReader(f))\n",
    "    count = 0\n",
    "    for line in reader:\n",
    "        if \"Single Family\" in line:\n",
    "                count += 1\n",
    "count"
   ]
  },
  {
   "cell_type": "code",
   "execution_count": null,
   "id": "29b9c5df-9805-4d8a-93b5-e7cbc2399b01",
   "metadata": {},
   "outputs": [],
   "source": []
  }
 ],
 "metadata": {
  "kernelspec": {
   "display_name": "Python 3 (ipykernel)",
   "language": "python",
   "name": "python3"
  },
  "language_info": {
   "codemirror_mode": {
    "name": "ipython",
    "version": 3
   },
   "file_extension": ".py",
   "mimetype": "text/x-python",
   "name": "python",
   "nbconvert_exporter": "python",
   "pygments_lexer": "ipython3",
   "version": "3.10.12"
  }
 },
 "nbformat": 4,
 "nbformat_minor": 5
}
